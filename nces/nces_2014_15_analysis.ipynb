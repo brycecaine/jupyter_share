{
 "cells": [
  {
   "cell_type": "markdown",
   "metadata": {
    "nbpresent": {
     "id": "d647d4c4-7e03-4e9d-8f33-b0a47ac41b09"
    }
   },
   "source": [
    "### Goal\n",
    "\n",
    "Explore correlation between school size and number of students eligible for free and reduced price lunches"
   ]
  },
  {
   "cell_type": "code",
   "execution_count": 61,
   "metadata": {
    "collapsed": false,
    "nbpresent": {
     "id": "44f80b0d-0c08-47bb-ac30-f11a0b37ddd0"
    }
   },
   "outputs": [],
   "source": [
    "%matplotlib inline\n",
    "import matplotlib.pyplot as plt\n",
    "import numpy as np\n",
    "import pandas as pd\n",
    "\n",
    "# Import data sets\n",
    "membership_df = pd.read_csv('m1415.csv', sep='\\t')\n",
    "school_df = pd.read_csv('s1415.csv', sep='\\t')\n",
    "lunch_df = pd.read_csv('frpl1415.csv', sep='\\t')"
   ]
  },
  {
   "cell_type": "code",
   "execution_count": 62,
   "metadata": {
    "collapsed": false,
    "nbpresent": {
     "id": "09e3a7c0-63a3-4b0c-995d-3196e0e56a59"
    }
   },
   "outputs": [],
   "source": [
    "# Join data sets\n",
    "memschool_df = pd.merge(membership_df, school_df, how='left', on=['NCESSCH','NCESSCH'])\n",
    "memlunch_df = pd.merge(membership_df, lunch_df, how='left', on=['NCESSCH','NCESSCH'])"
   ]
  },
  {
   "cell_type": "code",
   "execution_count": 63,
   "metadata": {
    "collapsed": false,
    "nbpresent": {
     "id": "358dbdc5-7eae-474a-b49f-959298f741af"
    }
   },
   "outputs": [
    {
     "data": {
      "text/plain": [
       "100187"
      ]
     },
     "execution_count": 63,
     "metadata": {},
     "output_type": "execute_result"
    }
   ],
   "source": [
    "# Ensure joining didn't filter or proliferate records\n",
    "memschool_df.NCESSCH.count()"
   ]
  },
  {
   "cell_type": "code",
   "execution_count": 64,
   "metadata": {
    "collapsed": false,
    "nbpresent": {
     "id": "d761b3df-3485-468c-bd6c-a9f0b55aa6b6"
    }
   },
   "outputs": [
    {
     "data": {
      "text/plain": [
       "100187"
      ]
     },
     "execution_count": 64,
     "metadata": {},
     "output_type": "execute_result"
    }
   ],
   "source": [
    "# Ensure joining didn't filter or proliferate records\n",
    "memlunch_df.NCESSCH.count()"
   ]
  },
  {
   "cell_type": "code",
   "execution_count": 65,
   "metadata": {
    "collapsed": false,
    "nbpresent": {
     "id": "4b5bf08a-560d-44fa-8c7c-bb4565290013"
    }
   },
   "outputs": [
    {
     "data": {
      "text/plain": [
       "97275"
      ]
     },
     "execution_count": 65,
     "metadata": {},
     "output_type": "execute_result"
    }
   ],
   "source": [
    "# Filter out `-1` values\n",
    "lunch_df = memlunch_df[memlunch_df['TOTAL'] != -1]\n",
    "lunch_df = memlunch_df[memlunch_df['TOTFRL'] != -1]\n",
    "lunch_df.NCESSCH.count()"
   ]
  },
  {
   "cell_type": "markdown",
   "metadata": {},
   "source": [
    "### Finding\n",
    "\n",
    "There seems to be a small correlation between total free-and-reduced-price-lunch and total enrollment, but the fact that there are many schools that have enrollment that do not have free-and-reduced-price-lunch eligible students discouraged further exploration."
   ]
  },
  {
   "cell_type": "code",
   "execution_count": 71,
   "metadata": {
    "collapsed": false,
    "nbpresent": {
     "id": "e80f0a4d-93ae-4850-a345-4ddba230956e"
    }
   },
   "outputs": [
    {
     "data": {
      "text/plain": [
       "<matplotlib.text.Text at 0x11a7799d0>"
      ]
     },
     "execution_count": 71,
     "metadata": {},
     "output_type": "execute_result"
    },
    {
     "data": {
      "image/png": "[encoded data removed]",
      "text/plain": [
       "<matplotlib.figure.Figure at 0x1171b5e90>"
      ]
     },
     "metadata": {},
     "output_type": "display_data"
    }
   ],
   "source": [
    "# Visualize data to detect possible correlation\n",
    "plt.scatter(lunch_df.TOTAL, lunch_df.TOTFRL)\n",
    "plt.xlabel('Enrollment')\n",
    "plt.ylabel('Total FRP Lunch')\n",
    "plt.title('NCES 2014-15 Total FRP Lunch by Enrollment')"
   ]
  },
  {
   "cell_type": "markdown",
   "metadata": {},
   "source": [
    "### Pivot\n",
    "\n",
    "Explore total enrollment by grade\n",
    "\n",
    "Attempted to filter out enrollments below zero, but realized that there are very few schools with all grades from preschool to grade 12."
   ]
  },
  {
   "cell_type": "code",
   "execution_count": 69,
   "metadata": {
    "collapsed": false,
    "nbpresent": {
     "id": "c76dd414-1218-4c03-a08b-e02f88804859"
    }
   },
   "outputs": [
    {
     "data": {
      "text/plain": [
       "1218"
      ]
     },
     "execution_count": 69,
     "metadata": {},
     "output_type": "execute_result"
    }
   ],
   "source": [
    "grades = ['PK', 'KG', 'G01', 'G02', 'G03', 'G04', 'G05', 'G06', 'G07', 'G08', 'G09', 'G10', 'G11', 'G12']\n",
    "\n",
    "grades_df = memschool_df\n",
    "\n",
    "for grade in grades:\n",
    "    grades_df = grades_df[grades_df[grade] >= 0]\n",
    "\n",
    "grades_df.NCESSCH.count()"
   ]
  },
  {
   "cell_type": "markdown",
   "metadata": {},
   "source": [
    "### Ending Analysis\n",
    "\n",
    "Although this data set contains the negative values in each grade-enrollment column, it is still useful to see a trend. The noticeable spike at grade 9 followed by the gradual decline through grade 12 is worth future investigation."
   ]
  },
  {
   "cell_type": "code",
   "execution_count": 70,
   "metadata": {
    "collapsed": false,
    "nbpresent": {
     "id": "5abdbcad-59c2-4bc9-9746-bace2479df4f"
    }
   },
   "outputs": [
    {
     "data": {
      "text/plain": [
       "<matplotlib.text.Text at 0x124c7c250>"
      ]
     },
     "execution_count": 70,
     "metadata": {},
     "output_type": "execute_result"
    },
    {
     "data": {
      "image/png": "[encoded data removed]",
      "text/plain": [
       "<matplotlib.figure.Figure at 0x119a19390>"
      ]
     },
     "metadata": {},
     "output_type": "display_data"
    }
   ],
   "source": [
    "grade_nums = np.arange(len(grades))\n",
    "enrollment = memschool_df[grades].sum()\n",
    "plt.bar(grade_nums, enrollment)\n",
    "plt.xticks(grade_nums, grades)\n",
    "plt.ylabel('Enrollment')\n",
    "plt.title('NCES 2014-15 Enrollment by Grade')"
   ]
  }
 ],
 "metadata": {
  "anaconda-cloud": {
   "attach-environment": true,
   "environment": "Root",
   "summary": "Brief Analysis on NCES 2014-15 Data",
   "thumbnail": "data:image/png;base64,iVBORw0KGgoAAAANSUhEUgAAAaEAAAEICAYAAAD2u0vkAAAgAElEQVR4Xu2dC9x21Zj/v69K5fRPCTE9kiiU02tKQ/RXTf2rmcGMKIcOqOjoMPUqKRSvMuggatCBKSVySE1IJFIqhGZC9BhNoRNSovT//LzXft/ddp/Wvdd6nnvf7299Ps/neZ773nvtdf/Wuq/vuq517bUX4GIFrIAVsAJWYJ4UWDBP1/VlrYAVsAJWwApgCHkQWAErYAWswLwpYAjNm/S+sBWwAlbAChhCHgNWwApYASswbwoYQvMmvS9sBayAFbAChpDHgBWwAlbACsybAobQvEnvC1uBOVXgq8DHgQ8DuwCvBp4zpy0Y7WInA78A3jLa4RNx1L3A44GfTERrOtYIQ6hjHTZHzb0OeADwWOD3cU0ZrZcDm8f/Gjv7ALvHcbcClwBvB74PyJjsBPyx1uZrgafG/68C/hV4NHAHcAXwEuB3PT7je4B/Ah4JXA+8Ezi1dtzTgI8ATwT+C1Dd3433/y/wVuAZgNq4Th8NnwfIUB8xxACeCOhYGZ3d4nNWVcq4qx131q6xfdTbvKza8bOavtX7avsZBfp5EiCksSMQ/s2Az5cTQhqje8UYXQ/4LfDfwIeAT2TU2BBqIaYh1EK8KT5VEHow8G9h8PVRmxA6BtgOeA3wDWAF4IXA2sDiMM79ZrQy4mcC2wDfAVYH/gH4dB8IvQ04HfgR8LfAf8a1vwncH/gx8H7geGAP4I0BCQFwY2B9YFXgoD4QWgn4NvAH4MtDICSjJkP2buC4HhAa1cOoIKRr391yLK04Qh3LI4SOBf4f8Frg4pgQbRpjWROGZpE91M+fE/vDEEoUrH64IdRCvCk+VRDSbPEAYF3gtgaE5AXIEOsLfVkfHQbNaN8UoaAXjKnh54CvBST/HjgpZtcyBio/j9mvYFWVLSMU1csTWhQgfHhCKEhGTaEtfc6qpIS5hkFI9coL1XHPBa4Oz1LepIo+697A/oAgJK/174CjgScEsPcDBGqVQRBSXYLr68PbFNB1/Y8BGwb05QVXXq28u8OjbWrXnsBVcR2NHcH5lcBj4tydY5JyE7ByeL46XO3838YY0HU1GXgc8CzgyqhrFvhAvKdJRlU0Fi4E3teoR3XLK94EuHzAOJMumkTJS5O3vBGwWYx9eWy/jgnHCbU65MG/IfpAYUN5v1U4Tp9P3vQO8VnPDl3r3vGYw346TzOEprNf234qGRLN6F8Xxk9ftLonJKPz5jAy/a41CEL6kn8RODJ+y0jcNWKj5dH8FNg1DJwMp0CkGW9VzgnDJE+uKv0gJEP5pTBAMp6jrkf0g5AMpQzOLWHE39XHSxkFQvIO9blkiE8JQ/7SGoTktSmEqetJFwFq3/AaXxyeocJQN48AIRnzV4Qnq+vp88nL1bkKs8rzUxueDpwfnqv6TXCSpypvU32osfMrQBMMwUQGXmDUpGbUcNw/h6d7aYyRhTFpkVf7mZhwyFt5WEw4BOBfNsaPxqgmF/3Cr9XhgpAmWtL5mvCENJ40ydI40wTgvLi+dJH3Lh22iHDqvwM71iAkGAqgmpD8CTgN+EF8X0Yc4svXYYbQ8tXfo37aCkI3hhGRIdOaTLUmdHAYIc1UB0FIBlOGqCqfBTQrVtGXXpATkDST11qLZpj3DGmkDMAj4nzN4A8BngxUxlmn/0eE6A4bAUJqkwyF1mFS1iN6QUjGTG3SrF1tUp3yJgSiZqkg9JvGG/IuNYNXWxSmE/xVtgXeC2xQg5AM4VfifwFEa3Qy1FURPDSDV13DPCElKQgYKlqfU7hU4FERzBVuldf1QUAejXSvioy31gblnWrsaNKitR8VTTQeEt7SqBBapdafDwKkkfT6n9BGoNXEQZ6gdNFPs6gN8tjqY1QTDNWn+gVN9ZN0uSjWDXtU85eXBD55W4LpRwOyApyKPC59fnlCmgTcDjwl/tb76k+NL4HSpYcChpCHRS8FKghppi2DLhjJMFYQausJ1a95P0DJA5+M2WI97NFs21HA8+N4LTKryBPaqmGIPh/GZZgnJE9D56tOlSaEZFCq8qSYdVf/94JQs70Co8CqmXyzjOIJ1b2ypgEX7GQAtR6mciDwTEAeUFW0+K4kEYWHhkGont3V/GwKvSkpREA8NzyaesKJ1uWUUKF1u/rYUTs0EdAkpho7oyQmKAQm3aqi/wUUeUYy/kpA0WTmWwEGXbdZtA6kY+Xp1osmPPJQBAW1VbpojMujqYomSIeGvhqfStIRkAVehXg1vuTxqij8pomW9NOYlEdWn1jIxgrggp9LDwUMIQ+LXgrUDYkMiMIQMuiChYxhtSY0KN6e4lWoDWcBN8RsvlebFPJRmEZJDQoRVUWhE81OlRBRrQlphqsEhWFrQlr7UIabsvNU/k94YheE5zdodIwCIYXKBAetNTRLDgjVwdHLE9J6kDzMUTyhUSGkSYLW3AS2YWNH79chpL6TwR+WHTfIE9K5Cm+pLnkwgmOv9RZ5Olqvao7RXhCqUtcrqCiLUmta8pIFLHlCuqa8K60/CjSVJyTdlDCj3wrfaeKiv5XF6TKCAobQCCIth4c0Z7OaJb4oZtVVirYyjxQf17qBjJ1mjFoHkHEdlh2n0J7WMLS2oKQHZbx9IcI9MlLNovUnwUKhO3ll9VJlxylUpXUHtUezaBkCzdbVLh0jgOp9GSetJ+g9ZQA+sFaZwi1aKH9HrOn06nrVpToFqmrxXnWpzmr9RkZKYTOBVR6eAFoaQmtECEghToXSBGwBQ5MIhc9yeULytrTY/i+RlCIvQWNCQFB6/SBPSJooG1LgaIYhK32kqcaaQmxKepEHohDjs2sCKhSnkKzWpDQu+hVlS2qSUs+OUz0KG9Y9oTqENCY0JuUd6zNpjH8qQqGCkPpYINL7+qyC/Mtqa0IaQ2tFqFBrY7oFQckdGusuPRQwhDwseinQNCTyMhT2Ufijfp+QYvP1+4TkHeg+oR/2uU9IYQstJmuxV+EO3TOkcIY8IGWaaf2gV5GHI0OvWWlVdK+QflS0WK7zFTKr7hOSsVNRexXPrxcZoepz1F8fxXuTMdcsvF4EOL2u+5nkkSj0IhDJuAlo9XZX5/W7T0j3NAmozbb0Csc1b5DUuo6MoMCjGyeVHac+UckFIdUlw6zPpevLC9E1BINhENK58lo1CVGISv01KDtO6ynywhV60z1VVVFoT2ttAkGzb+v9Ut3LpomJNBFc5LUolKYJgiYOdV2qc5UpqH7Q2FToTWn00rO6gVZekNbHdH4zO05enM5VKFZjXR6R1tF0S4NLDwUMIQ8LK2AFuqaAJjECvNZ7qhBs1z6D2xsKGEIeClbACnRJAXklSrj4XnjdXWq722pPyGPACliBDiugrDitAwlACglWGZId/khuuj0hjwErYAWsgBWYNwUMoXmT3he2AlbAClgBQ2jIGFhjjTXuXWedYTt/eCBZAStgBaxAXYErrrhCtwasOUwVQ2iIQgsXLrz38ssH7X84TGK/bwWsgBVY/hRYsGCBtn/SfWUDiyFkCA0bI37fClgBK5CswCRBSDelyZXQTVva/0l3KivFUnd4i5S6uU83IurGMD2oTPtsaVsWbXmimyZVdMe89qbS5pa6QbK6+1gZMro5T9fQzYq6U19lnGv0FNmeUPLY8wlWwApYASYJQnruhlwy7aQrCGlLET28TCDSNipKt9QdxdpuRLvPanNM3W2sB6QJRLqrWhsUauuOR8VDx7Rxo4ruftbmldroUQ8l05bq2i8q9Rp9h4wh5G+TFbACViBdgUmBkDYb1Nb72uxQMNKuxdoRV3tHaZt6bcuhDQ63Du9Gf2v7eW0yqD3CtKhVbRRYbYcvL6jaor86t/KW9FveUOo1+t51bQilDz6fYQWsgBWYFAhpfybBQ5sC6mmaetCT9h/TPk4q2pNMD4zSBn/apVbhNXk1Kno2h3bAFWh0TvV8Ej3FUOeo6PjqeSsK69WPT7mGsjjqRfuh6YeZmZmFs7PalNnFClgBK2AFRlVgEiCk0Jt2wlWYTZsvdglCS3W2JzTqkPNxVsAKWIFlCkwChOQByTtR2E07y2pNSFvAK/TmcJxHqxWwAlZgihWYBAjV5a08IXlHer6Kns9RJSZcBei5H9o+faNaYoKeKbJDPCZZj8etEhP0HBdtIa/0ciUm6BHHyrxTYsJO8RiB1Gv0HQr2hKb4W+KPZgWsQDEFJhlC6waAVo8HXOnZIHeFt6RnhOjZMLdEhpyeVKhycDyvRF6VnuNRrQkp3KenYypFW88pqZ72OM41enaGIVRsjLpiK2AFpliBSYNQZ6U2hDrbdW74cqjAOov0gN725brF27WvZDmvwRDKNAAMoUxCuhorMAcKGEJzIPKIlzCERhRq2GGG0DCF/L4VmBwFDKHJ6QtDKFNfGEKZhHQ1VmAOFDCE5kDkES9hCI0o1LDDDKFhCvl9KzA5ChhCk9MXhlCmvjCEMgnpaqzAHChgCM2ByCNewhAaUahhhy1vEMrxJe6VWVSq3mH95/eXLwVyjDMp5uy49uPGEGqv4V9qMITShTSE0jXzGXkUMITy6JijFkMoh4qG0FgqGkJjyeaTMihgCGUQMVMVhlAmIe0JpQs5lxDKYXQceknv40k9I8d4cDguT+8aQnl0dDhuDB0NoTFE8ylZFDCEssiYpRJDKIuMk7kmVPKLlqNuQyjT4HM1yQrkGL/2hJJl73mCIZRHx4n0hEp+0XLUbQhlGnyuJlmBHOO3F4RK1Zv8ATt0giGUqbMmcU2o5BciR93TAKGu6ZBpuHe+mhz9ZgjlGQaGUB4d7QmNoaMhtES0udRhjG6a11O6BotS7Z3XTih8cUMok8D2hNKFnEvjm8M4TEN703tpfs/I0W9z6bGUau/89kLZqxtCmfQ1hNKFnAajnsPoWIdlY6epRQ59DaH07+ZcnmEIZVLbEEoX0sZ37sNxOYx6qX6bBljk0LdfiDb9G9aNMyYBQqsAFwErAysCZwGHAicDzwN+E1LuAnwXWAAcDeiR3XcAev3KOGZn4C3x9+HAKfH3wqhvVeBcYD/gXkCPDj8DWEeheWAH4NYh1+jZs4ZQ+oAvZcxcbzfhZgj19wjTv13dOWMSICSoPBC4HVgJuDggsSdwTkCprqjgs09AaJMAkn4LKJcDzwzAXKHddAIqlwH7ApcGhI4BzgOOBG4BFgOLgIcCB0bdva7Rt2cNofRBb1h0Exal+s0QMoQGWRGBYi7KAwJCrwX00wtCJwBfBU6PBl0DbF772SNer47TsRcCG8TrO8axOq469wZgrah3faDfNXScPSG5jou+0Ho8lDJmrrebcDOEDKH5hNAKgDyX9YAPhDeicNymwF3ABeGp6G+BSZ6LPCYVvSfvRSBSaE9hOJVDgDsDLDp+y3h9szh+e+A2YLV4XaBVKE7/97uGPC1DyBBaOgYM4yVS5NDBEDKE5hNC1bUFgLMj3HYzcCNwf+BE4Frg7QUhpDYIQgrJjQqh3QH9MDMzs3B2dra1d5CzglKGIZfRscfSTY+lVL8ZQobQJEBIbXhrJBy8p9YgeTlvAuS9OBw3IqkMoWVC5dCilPF1vf2Nb45+mwa4jfiV7+Rhk5CYsCbwpwiNKXvti8C7IzynNRiFyd4H/CFCctsBe9cSE5RksHEkJiik94zoCWXMKTFBiQfNxIRjI0HhKEAeV5WYoOSGA4B+1+jbyU5MSB//Nr72hJqjxvcJ9R8T6d+wbpwxCRB6SqRSa13ofsCZEXb7CiBACUJKzVa2nDLo9P9xwDbhMe0aWXFSfDfgoJD+COCk+FsZc1pjEuSUFafMN6VorxHXmwEUS1OKtqA16Bo9e9YQSh/whpAhZAj1/t7MFYzTv7X5z5gECOX/VPNQoyGULrohZAgZQoaQIZRuO+0JZcqGMoQMIUPIEDKEDKGhChgWhkV9kJQaD7rGXIWhnPAw9Gs/ZwcYQpmkdjguXchSxsz1dhOahtCy71DXYZxiDQyhFLUGHGsIpQtpWHQTFqX6zRAyhAZZkbnatifdkk3IGYZQekeUMmaut5twM4QMIUMo3Y4uPcMQShfPsOgmLEr1myFkCBlC6XbUEGqhWSlj5nq7CTdDyBAyhFoYVHtC6eIZFt2ERal+M4QMIUMo3Y7aE2qhWSlj5nq7CTdDyBAyhFoYVHtC6eIZFt2ERal+M4QMIUMo3Y7aE2qhWSlj5nq7CTdDyBAyhFoYVHtC6eIZFt2ERal+M4QMIUMo3Y7aE2qhWSlj5nq7CTdDyBAyhFoYVHtC6eIZFt2ERal+M4QMIUMo3Y7aE2qhWSlj5nq7CTdDyBAyhFoYVHtC6eIZFt2ERal+M4QMIUMo3Y7aE2qhWSlj5nq7CTdDyBAyhFoYVHtC6eIZFt2ERal+M4QMofmC0CrARcDKwIrAWcChwGOBTwBrAFcArwD+GMedCiwEbgZeomdhRePfDLwKuAfYFzg/Xt8GOBpYAfgwsDheH+caPXUyhAyhdAUMoaZmXX+Ojh+Wl/4tmITnCekxEQ8EbgdWAi4G9gPeAHw6QPQh4HvAB4HXAU8B9gReCrwwQPQk4HRgY+BRwJeBJ4QkPwK2An4BfBvYEbgaODPxGn0VNoTSB1+pGbXr7Sbc7AnZE5ovT6h+3QcEhF4LfAF4JHA3sClwGLB1eDf6+5LwnG4E1gQWRUXvit/ygnScSnWu/pa3pCJv6NeJ17i3n0iGkCGUrkA3YVEK8oaQITSfEFKYTCG39YAPAEcB34r/1a61gfOADYEfAAqvyatRuRbYJECjcz4er38kztG/Ov7V8brCevXjdc1Rr3FTQ6TdAf0wMzOzcHZ2dlw7VOS8UqEBNTZH3aWMmevtJtwMIUNoPiFUXXs14GzgEODkDkBoqWb2hNI5alh0Exal+s0QMoQmAUJqw1uBO4EDE0NlDsc1ejCHt9LLMNgTWiZ0Do1LGfWu1WsIGULzBSGt5/wJuA1YFfgi8G5gZ+BTtcSEq4Djgb2AjWqJCS8CdgCeDJxWS0y4AHg8oMQHJSZsAVwfiQk7AT8EPpl4jb4a2ROyJ5SugD2hpmbOjus9JnJMduYS8infhUnIjlOm2ymRPn2/yFh7O7BuAGh14DvAy4G7AKV0fwx4OnBLZMj9ND70wcBukcywf21NaFvg/XGNjwJHxPHjXKOnvoZQyrCz8a2r1TWPpVR759JIds2od629KdZgEiCU0t6JPdYQSu+aUsbM9XYT8oaQw3HzFY5Lt14TeIYhlN4phkU3YVGq3wwhQ8gQSrejS88whNLFK2XMXG834WYIGUKGULodNYRaaGZYdBMWpfrNEDKEDKEWBtWeULp4pYyZ6+0m3AwhQ8gQSrej9oRaaGZYdBMWpfrNEDKEDKEWBtWeULp4pYyZ6+0m3AwhQ8gQSrej9oRaaGZYdBMWpfrNEDKEDKEWBtWeULp4pYyZ6+0m3AwhQ8gQSrej9oRaaGZYdBMWpfrNEDKEDKEWBtWeULp4pYyZ6+0m3AwhQ8gQSrej9oRaaGZYdBMWpfrNEDKEDKEWBtWeULp4pYyZ6+0m3AwhQ8gQSrej9oRaaGZYdBMWpfrNEDKEDKEWBtWeULp4pYyZ6+0m3AwhQ8gQSrej9oRaaGZYdBMWpfrNEDKEDKEWBtWeULp4pYyZ6+0m3AwhQ8gQSrej9oRaaGZYdBMWpfrNEDKE5gtCawOnAo8A7gVOBI4GDgNeA/w6GnYQcG78/WbgVcA9wL7A+fH6NnHuCsCHgcXx+mPjUeFrAFcArwD+CKwc114I3Ay8BLhuyDV66mRPKJ1GpYyZ6+0m3AwhQ2i+ILQWoJ8rgQcHJF4A7ADcDryn0bAnAacDGwOPAr4MPCGO+RGwFfAL4NvAjsDVwJnApwNEHwK+B3wQeB3wFGBP4KXACwNE/a4h6BlCQI5n3hsW3YRFqX4zhAyhHBB6NvCNRkW9Xht0rc8CxwE6rxeE5AWpvCt+ywuS16Si31vXPBn9KW9I3tQjgbuBTWvHVedeAqwI3AisCSzqcw0dZwgZQkvHgGG8RIocOhhChlAOCMmbeUajol6v9bvWOsBFwIbAG4BdgN8ClwNvBG4NQH0L+HhU8hHgvPhb4bhXx98KuW0SwNHx68XrCv/peF3jB4DOkeekcm3jnOY1zmo0fHdAP8zMzCycnZ0dpOGcv1fKMOQyOqVm1K53yVDrmg6GkCHUBkLyLv4O2B94X62ih0SI66kjWOAHAV8DjojQmdaIbop1ondEyG63CYPQ0o/lNaERerhxSNeMpNtbFm6GkCHUBkLPAzaPtRWtuVTld8DngR8PMVErAedEgsF7exwrD0nvy3txOG5Ee29PaJlQObQwhAyh5levOSZyjLNpgPGIJuovhy1YsEDJYs8cds6CYQfE+48BUmNSqvsU4JbwpKpLKVnhhvjn9REmU/LAk4HTaokJFwCP12cBlJiwBXB9JCbsBPwQ+CTwqVpiwlXA8cBewEa1xIQXRUJEv2s4MSE6JMeXzUa9rFHvmr7TYHxzfC+mQYcReVEEQspSe5PWKWOhv2rL8wc06jnA14HvA3+O45SOrcy2p0U4TmnTe9SgdDCg0JwSDRQCrNaEtgXeDyhF+6MR2lOV6waAVge+A7wcuAtYBfgY8PSAoCD302hDv2v0/CgOx6UMOxvfulpdg0Wp9k6D8TWE0u1Abk9Iqc8Kx8m9qnsN+n+qiyGU3r2ljJnr7SbkDaFl36Guh/lSrEFuCAk2uvFzuSuGUHqXGxbdhEWpfjOEDKFBVmTUNSHdp/Mr4OwId1V1ar1nqoshlN69pYyZ6+0m3AwhQygHhH7WoxJtxaM1makuhlB69xoW3YRFqX4zhAyhHBBKt0RTcoYhlN6RpYyZ6+0m3AwhQygHhB4QOx3MxE4CSp1eP+7xSbdSHTrDEErvLMOim7Ao1W+GkCGUA0JnRGbcK+PGUkHpm5FqnW6lOnSGIZTeWaWMmevtJtwMIUMoB4S0x5vufNW9OLr3RkVp26Ns25NuxSboDEMovTMMi27ColS/GUKGUA4IyevRjgXaSVsbmT6u9tiFdCvVoTMMofTOKmXMXG834WYIGUI5IKRn+bwF0PN4vhiPY9BO2F9NN1HdOsMQSu8vw6KbsCjVb4aQIZQDQqpDTy99VuzlpkcoaCfsqS+GUHoXlzJmrrebcDOEDKFcENKTSpt7x+mpplNdDKH07jUsugmLUv1mCBlCOSCkTUMFIe1cXW1GqptVtdnoVBdDKL17Sxkz19tNuBlChlAOCF0d60HpFqnjZxhC6R1oWHQTFqX6zRAyhHJASI/a/jdAMFquiiGU3t2ljJnr7SbcDCFDKAeE9ITVzwE3xgam2vhU4TiF6Ka6GELp3WtYdBMWpfrNEDKEckDoJ7FtT/0Bdao39Wmr6RZtns8whNI7oJQxc73dhJshZAjlgNAlwKbp5qj7ZxhC6X1oWHQTFqX6zRAyhHJA6HhgNeDzjecJOUU73Ua3PqPUo4bVsBx1lzJmrrebcDOEDKEcEDqpRyXDUrTXBk4FHhHrRycCRwOrA9oQVfccXQfsANwaN8Hq/W2BOwDtyHBlXHfn2LFB/x4OnBKv62mvJwOrAucC+8W1xrlGT53sCaUz07DoJixK9ZshZAjlgFC6JYK1WPIjkDw4duF+QcBFT2RdDCwCHgocGPDZJ35vEsDSbwGl2kBV4KseNS5wXQbsC1waEDoGOA84Eki5Rt/PZwild30pY+Z6uwk3Q8gQagOhY8Oz6FeHADBq+SxwXPxsDtwQkNL+c3o20QmxF93pUeE1gI6rfvaI16vjdN6FwAbx+o5xrI6rzh31GjrOnpDDcUvHgMOSS6TIoYMhZAi1gZDCYINKFRYbBiKF3i6KZxH9PNaXdI5SveXRaL3pnPCOLo7KLggPSRBaJcJweusQ4M4AlrypLeP4zeL47YHbEq8hT6tedo+H9zEzM7NwdnaykgBLGYZcRscey5KhZB2mx/iW+s51rd5hhr7+/oIFCxS10iOABhZBoHR5EPA14AhAiQx1QOjagpBCcqUgNMo1mhBaqonDcenDw8bXEGqOmuaY6JrxdXvT7UAuCCkbTusw/co/DmnaSgGX84H3xrGpoTKH4xoil/pC2BNaJnQOjQ1je0LTBuMUFOWCkHZKGFTk4fQr8rIUrlOCwP61g44Cbq4lJijx4ABgO2DvWmKCkgw2jsQEuXV6mJ6KEh2UFad6m4kJWsNSllzqNfp+CHtCKcPOHkBdLUPIEDKE8obj7g88oebN/GmIeXoO8HWgvsvCQZHJdiYwEzsuKEVbQBG0lLiwTaRo7xpZcbqMduvWuSoK61Up44o3VinayopTdp08Nz37KPUaPT+OIWQIpStgGE+b8c3hGUuTroclU74LuTyh6poKicmr0X09goXuAVLSgpINproYQundaw/AEDKEen9vDKG/1mXUxASFw3aK1GfVIo9IqdQKi011MYTSu9cQMoQMIUMotyd0VY8ds3u9lm6xJvwMQyi9gwwhQ8gQMoRyQ0hPVtUTVT8e0r4MWMFPVk030DnOKBWfVtty1G0IGUKGkCGUG0IrA3sBSjZQUcKBNjW9K4dRneQ67Aml944hZAgZQoZQTgjJ49FGpPJ+lrtiCKV3uSFkCBlChlBOCElNbaXzfOCP6Sap22cYQun9ZwgZQoaQIZQbQvKEnhiP+P59Td5qF4R0S9WRMwyh9I4yhAwhQ8gQyg2hQ/uYorelm6hunWEIpfeXIWQIGUKGUG4IpVuiKTnDEErvSEPIEDKEDKHcENLNqW+Kp6GuWJNX60RTXQyh9O41hAwhQ8gQyg2h7wEfiqea3lOTVzspTHUxhNK71xAyhAwhQyg3hKpHaqdbpI6fYQild6AhZAgZQoZQbggdBvwKOLtxg6p2v57qYgild68hZAgZQoZQbgj9rIekemTCuukmqltnGELp/WUIGUKGkCGUG0LplmhKzjCE0jvSEDKEDCFDKBeE9MTTI0POFwOfrEn7ztqD5tItVUfOMI8sXq4AABTvSURBVITSO8oQMoQMIUMoF4T0KO36Y7Wrv6Vw/b10S9WRMwyh9I4yhAwhQ8gQygWh7wBPDznrf+ul5v9N1fX4h+0joWHDeFMJDq8Bfh3/65Hd58bfbwZeBSgFfF/g/Hhdj/s+Oh4d8WFgcbz+WOAT8ShvZe+9Iva2047f2mZID9y7GXhJPBFWp/W7Rl9LawgZQukKGEKGkCGUC0JtPKHnArcHEOoQ0mvvaXTRk+JJrRsDjwK+HE9v1WE/ArYCfgF8G9gRuBo4E/h0gEj3MOlepg8Cr4sH8O0JvBR4YYCo3zXq9z391cgxhNJNsD0hQ8gQMoRyQUgGWhuW6jHgqwJ3hLT6fxVgpSEmah3gHGAYhOShqLwrfssLktekot9b17wl/SlvSN7UI4G7gU1rx1XnXgJod4cbgTWBRX2uoePsCYUCfqjdEiGsQz4dVFNzYpJDX9e7zGzNlb4pU9JcEEq5Zq9je0FoF+C3wOXAG4FbgeOAb9We3PoR4LyoUOG4V8ffCrltEsDR8evF62vH8YLdDwCdI89J5drGOdXTYatrnNWj4bsD+mFmZmbh7OxsWx2ynl/qC2zju6ybcmhsj3DujWSOfjPc+vdbiiGbVAg9ArgJ0D1G7wDWikeETxqElmrtcFzKsFtyrI2vdWiOmrmaqRtCZT3YFGswqRCqf4a6l+RwXELvlvqi2ROyJ9QchqXGmustC4tS+iaYKSYVQvJ8bogP8voIkyl54MnAaUCVmHAB8PhYi1JiwhbA9ZGYsBPww7hn6VO1xISrgOOBvYCNgCox4UXADgOu4cSE2sjKMXjtCdkTsifU21x33SPsGoROBzYHHgb8EtCD8fT/0yIcdx2wRw1KB0doTokG+9fWhLYF3h8p2kr7PiKE0JZBStFePdLFXx772ilh4mORWq697QS5n8Y5/a7RV1uH41KGnY1vXS3D2GtC0wbjFGswKZ5QSpsn8lhDKL1bbHwN42kzvjkiBL3WS7tWb4o1MIRS1BpwrCGULqQhZAgZQg7HGULptrPnGYZQupCGkCFkCBlChlC67TSEfJPm0jGQI0xiGHtNaNpgnGJWDaEUtRyOs/FtjAFDaIkgOXSYhrUQ65BuUA2hdM3sCWUyOvYAHI6bNg/AEEo3qIZQumaGkCFkj7CAR2hPaHrCkilm1RBKUcvhOBvfAsbXHuH0GF97QukG1RBK18yekD0hw7gAjO0JTQ+MU8yqIZSilj0hG98Cxtee0PQYX3tC6QbVEErXzJ6QPSHDuACM7QlND4xTzKohlKKWPSEb3wLG157Q9Bhfe0LpBtUQStfMnpA9IcO4AIztCU0PjFPMqiGUopY9IRvfAsbXntD0GF97QukG1RBK18yekD0hw7gAjO0JTQ+MU8yqIZSilj0hG98Cxtee0PQYX3tC6QbVEErXzJ6QPSHDuACM7QlND4xTzKohlKKWPSEb3wLG157Q9Bhfe0LpBtUQStfMnpA9IcO4AIztCU0PjFPM6iRA6KPA9sCvgA2j8asDZ8jWAdcBOwC3AguAo4FtgTuAXYAr45ydgbfE34cDp8TfC4GTgVWBc4H9gHuBca7RV1s/1C5l2C051h6AdWiOmuaYsGexRKGu6ZBiDSYBQs8FbgdOrUHoSOAWYDGwCHgocGDAZ5/4vUkASb8FlMuBZwZgrgAEH4HrMmBf4NKA0DHAeUDqNQbq2gZCXRxgOdpsCBlChlBvs9J1GHcNQn8BPXBODULXAJsDNwBrAV8F1gdOiL9Pjw9ZHadj9bNHvF4dp/MuBDaI13esHZd6DbWliCeUw6DPZSgj18zMEDKEDCFDaBI8oV4Qug1YLbpHITh5NPpfoJJ3dHG8d0F4SALQKoDCcCqHAHcGsHT8lvH6ZnG8wn+p15Cn1Sy7A/phZmZm4ezsbMoEYOmxhtAy2XJoYbh1E25zOZHKMc7c3mXf217fuVGNYRcgpM8iCCkkVwpCo1yjF4SW6uxw3KhDbvDAzWEcDCFDyB7W/HpYKdZgUiGUGipzOK7HQn8Og95rtvcX13XRF1LGWc9jDYtuwqJUv9mz6D9By/F9m0t9U4zDpELoKODmWmKCEg8OALYD9q4lJijJYONITFAywjPiwytjTokJSm5oJiYcGwkKqdcYqKs9oZRhZ+NbV6uUUe9avXNpJLtm1LvW3hRrMAkQUpKBPJmHAb8EDgU+A5yppRZACy1K0RZQtD50HLBNpGjvGllx+sy7AQfFhz8COCn+VsZclaKtrDhl1ylFe40xrtFXW0MoZdgZQobQ/IaLumbUu9beFGswCRBKae/EHmsIpXdN12bqbm/ZyYM9IYfjBlkReSAuAxQwhNKHh416WaPeNX0NIUPIEEq3o0vPMITSxeuakXR7y0LTEDKEDKF0O2oItdDMRr2sUe+avoaQIWQItTCo9oTSxeuakXR7y0LTEDKEDKF0O2pPqIVmNupljXrX9DWEDCFDqIVBtSeULl7XjKTbWxaahpAhZAil21F7Qi00s1Eva9S7pq8hZAgZQi0Mqj2hdPG6ZiTd3rLQNIQMIUMo3Y7aE2qhmY16WaPeNX0NIUPIEGphUO0JpYvXNSPp9paFpiFkCBlC6XbUnlALzWzUyxr1rulrCBlChlALg2pPKF28rhlJt7csNA0hQ8gQSrej9oRaaGajXtaod01fQ8gQMoRaGFR7Qunidc1Iur1loWkIGUKGULodtSfUQjMb9bJGvWv6GkKGkCHUwqDaE0oXr2tG0u0tC01DyBAyhNLtqD2hFprZqJc16l3T1xAyhCYRQtcBvwPuAe4G9Kju1YEzgHUAva9Hf98aj/4+Gtg2Hv29C3BlfKidgbfE34cDp8TfC2uP/j4X2C8e/d3vGn01sieUTqOuGUm3tyw0DSFDaFIhJPDcVGvckcAtwGJgEfBQ4MCAzz7xexNAQNJvAeXyANi9wBWA4CNwXQbsC1wKCELHAOcB/a5hCIUCOZ55b6Ne1qh3TV9DyBDqCoSuATYHbgDWAr4KrA+cEH+fHh+kOk7H6mePeL06TuddCGwQr+9YO67fNQwhQ+g+Y8AwXiJHDh0MIUNoEiH0s/BY5MEIHicCtwGrRWMXxPv6/5zwji6O9y4ID0kAWgVQGE7lEODOAJa8qS3j9c3i+O0HXKOp0e6AfpiZmVk4Ozs7SMO+73XtC5zL6HRtpu72lvXcDCFDaBIh9GjgeuDhwJcAhds+V4OQ2qywmkJypSBUv4Y9IXtC9oQWb/dX34OuTaTc3rIebMpsfMGCBVoi0bLLwCKPY77LYcDtwGscjuvdFc2Zeqkvmj2hZfrn0Nge1vR4ADnGwzR4hCmwmGQIPRC4X2TH6W95Qm8HtgBuriUmKPHgAEDTs71riQlKMtg4EhNE2meEMMqYU2KCkhuaiQnHRoLCUX2uYU/InpA9IXtCS8fAXE38uga3aYHQusDZ8WFWBE4DjgDWAM7UMgygRRilaAso8taOA7aJFO1dIytOVewGHBR1qY6T4m+5gCcDq0ZWnMJ9Wn/qdw1DyBAyhAwhQ6hhCXt586OCaJI9oVE/w0Qc5/uE0rvBYaglmlkHh+Oa356ue1gp1sAQSlFrwLGGULqQNr6G0LQZ366FzUq1N8UaGEIpahlCSxXIMXgNIUPIEOptVOwJ/bUuk5AdlwkXZaqxJ5SuqyFkCBlChpA9oXTb2fMMQyhdSEPIEDKEDCFDKN12GkKZtmkxhAwhQ8gQMoQMoaEKGBaGRX2QlBoPukbX10JyrJVOgw5DjUrtAEMoRS0nJjgxoTEGchidUka9a/VOg/HNMR6mQYcUs2oIpahlCBlChlCx+5qmwfgaQukG1RBK18xrQl4TMowLwNgQWiZq18OSKWbVEEpRy56QjW8B49u1sFmp9hpChtAgc+z7hIbAyina6TQvZcxc75K+6JoOhpAhZAil29GlZxhC6eJ1zUi6vWXhZggZQoZQuh01hFpoZqNe1qh3TV9DyBAyhFoYVHtC6eJ1zUi6vWWhaQgZQoZQuh21J9RCMxv1ska9a/oaQoaQIdTCoNoTSheva0bS7S0LTUPIEDKE0u2oPaEWmtmolzXqXdPXEDKEDKEWBtWeULp4XTOSbm9ZaBpChpAh9NcKbAMcDawAfBhY3E8kQ8gQSlegrFHvGjQNIUPIELqvAgLPj4CtgF8A3wZ2BK7uJZQhlG6Cu2Yk3d6y0DSEDCFD6L4KbAocBmwdL785fr/LEIIcGzXaqJc16l3T1xAyhAyh+yrwL4DCca+Ol18BbALsXTtsd0A/KusD16T7AyOf8TDgppGPHv1A17tEq1I6lKy7VJtdb9kxYX3va58eA6w5zGQtj3vHjQKhYbrlfP9y4Jk5K4y6XO8SIUrpULLuUm12vWXHhPUdw5AtjxBKCseNoWnqKR643TQMhtCyke4x3M0xXKrfkmzg8gihFSMxYQvg+khM2An4YZJy+Q4uNRBcb1nDYAgZQk0r4O/cGHZxeYSQZNoWeH+kaH8UOGIM7XKdorWnE3NVVqvH9S4Ro5QOJesu1WbXW3ZMWN8xDNnyCqExpPIpVsAKWAErkFsBQyi3oq7PClgBK2AFRlbAEBpZKh9oBayAFbACuRUwhHIrOri+e4DvA0qO+C9gZ+AO4HbgQXFqtV6lHR1mR2jeoHNfDhwQa193RxLGm4DbBtT7COB9wLOAW4E/AkcCZwO6sfdVgD7HvsD5UY/W1bYHfgVs2Kfu1HrXBk4FdN69sW6mrZaaJbXeVYCLgJWjH84CDs1Qb1WFduTQArWSXqRJ2/bq/OuA34Xu6sdeKf2pOqje1WLbKvWZNN4NuKTR4NR6dV/dGbU61gXeGmuw9apT69W5r4/7+9RWfY92Bf7Qsr06fT/gNYDs4b/3aKuO6ddejSWNob8FTm7cb7gwXlsVODeuo7aPosOgerWG/UrgoTW7Meo461fvA4BPAo+LcfZ5YNEI9qf1IYZQawmTKqgD4z+AK4D31iCkjL0TYjeHa0esuaqzea5uyNVg/ccwiDKOgt43Btx8q/HwTeAU4ENxfd1wpjouAE4HNgYeBXwZeEIM2OfGZxA0ekFonHofDqwFXAk8OLR6QWN7pXHq/TPwwGjvSsDFYRy+VdN7nHoFZpU3BCQe0gNC49YrCAk8/W5qHrde9fPXA0T3B2SI6hOUceutA1kw1s3g9QnVOPU+MvrqScCdwJlh2GX4qzJOvU8EPhHjWhOu/wT2BH4yYr2agD09xr3Gfv2m98tisnZptPUY4LwM9WqCKD1/3AdCg3To1171vfrpQkBjQd/3dzbaO6JJSjvMEErTq+3RdQhpoD8FeF0YRHlA+kLp938nXEh19jpXxkUzUA2qUYtApnOe1+OE5vZG8oK0/VE1c14HOKcPhNrUWzXls8BxwJdqbWtbr754gtBrARmKqoxb798EwAV/wajpCY1b7zAIjVOv9kr8LiBPpTk7b6tDdf7fh5f57MZ4Gqe9Pwc0UXgq8FvgM4CM+hdb9pv6TBM2efgqhwB3hfc/ig7VMbvERKGCkCZQ+u5tEAdof8rNgT1GbG+/eutS1u1J/fVB+o5Sr45R1OEH4RmOaj/GOs4QGku2sU+qBo3CcZ+KWdcHgT9FuEWD9KrE2vudewvwWOA3CfUpxKZzFPZoFgFARuDj8cZHYpakUITKIAi1qbeqW2EEzTRlgKoybr3yCuWFrgd8ADiw8WHHrVdaaA9CeW4KezYhNG69P4vQqGAhT7mZ0j9OvZrpqx7BSIZdeigs9fsM+lZVaNYtT1Zjp17Gaa+0VfsEeHlCgs/LMtSr+wM1wdFN7KpXHoDCqfuMqEM/oy7PVbvzbxkHbBbjrD4mBunQr976R+4Hobb1KkyrflPbf5pgP8Y61BAaS7axT6rWhFSBPJU3xpqL1oW+AigEpy9aSul3bh1CGwEfC+N4UCNmP8g4yEA/J9ooTyEXhFLq1VrZ18L4fHqI0UmpV1Xpy6a1Lhkczfr6wW2UerU2IY9Unq0mE6NAaJR6ZXwfHSFVhSjlCaq9gnKb9sq7Un/KS1HfauYrwMsTaFNvNSlRSOd/gScDv8zQb4KDJm4viZCh1i90rWpSpEs0je+o+soLUr8JwIKSPKH9R9RBa0EqTU9oHAjV29uv3nEglFKvJshaD1KkQ/dSFi+GUHGJ73OBfjMXvS4Doy+aBoBisaOWfuf2CsdpRqpZXj2OXr9OLzdemzLqHM3AVardxtuG40apV2s2CvHpWlo7a5Y27a3qUvhRIH9PrfJx6tW6mTbDVeKAkh+0JiRoKjmkKuPU20wUUAhUfd62vfKuBCF5sCqaqWshertM7f0nYC9AIbkc/dYMm2lhXmsjgkdOffXd0yNejh+x3kq/XOG46nvRr966linhuFHrlfeqegX0OSmG0JzIvPQigyCkGf/q4SHJ4CrcNUqp6myeq1n5OwAZA32pVFSn4NQPQhoPMkx6X2FClZmYdcs4nVZLTBAwHx+JCTpuUDhunHqVQKCFc3l09VlpXZNx6pVOCmFqAV5ZSwrrvDtgV9U9Tr1VYoLq6OcJjVOvgHa/CNcqoUKe0NsjlNu2vRoL2k1eu8QLbqr/X2sCj9PeSgct9mvycFKPQTxOvfIsZCDlIShspjGqydGxGdqrCaAyOzXWNR4Et2aCRr/vxSBYNBMT1FZlyY3Sb20gNEjfQfUeDihR48WAvn9zUgyhOZF5ZAjpQKUmK9SisNznRmheHWzNc5UNp7CQ1kD0pVLISenINwyoVwuqStFWpsyvI0ShTDml3R4cabya7QsMVaaPsuZkeDXbUuhF12hCNLVehQFlJJWKW30hFEqsf4n1MVLrVTKI4CZNZNyVZSWj3iyp9dbP7wehcdqrxAGFDFUUKtFEoNc2U+O092m1zDjF/pXyrLT8ehmnXsFMiQRqe781yXHqfVuE4zT+vhMAVeisbXs1ztaIyYkSSjTBShkPCm3K81UIUt8zeX9aaxM4BUtNdvRdURi1mQQySId+9eqWCe13qSxVhTz1dGhNIkbVoVe9CsX+TyRFVZoqcqK6ixZDqKi8rtwKWAErYAUGKWAIeXxYAStgBazAvClgCM2b9L6wFbACVsAKGEIeA1bAClgBKzBvChhC8ya9L2wFrIAVsAKGkMeAFbACVsAKzJsChtC8Se8LWwErYAWsgCHkMWAFrIAVsALzpsD/B0cFoKwgWTP7AAAAAElFTkSuQmCC",
   "url": "https://anaconda.org/brycecaine/nces_2014_15_analysis"
  },
  "kernelspec": {
   "display_name": "Python [Root]",
   "language": "python",
   "name": "Python [Root]"
  },
  "language_info": {
   "codemirror_mode": {
    "name": "ipython",
    "version": 2
   },
   "file_extension": ".py",
   "mimetype": "text/x-python",
   "name": "python",
   "nbconvert_exporter": "python",
   "pygments_lexer": "ipython2",
   "version": "2.7.12"
  }
 },
 "nbformat": 4,
 "nbformat_minor": 0
}
